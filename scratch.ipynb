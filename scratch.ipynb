{
 "cells": [
  {
   "cell_type": "code",
   "execution_count": null,
   "metadata": {},
   "outputs": [],
   "source": [
    "def text_results(dataframe):\n",
    "    \n",
    "    # Clean the data\n",
    "    dataframe = clean_text_data(dataframe)\n",
    "    \n",
    "    # Split\n",
    "    x_train,x_test,y_train,y_test=train_test_split(dataframe['text'], labels, test_size=0.2, random_state=7)\n",
    "    \n",
    "    \n",
    "    # Initialize the count vectorizer\n",
    "    count_vectorizer = CountVectorizer(stop_words='english')\n",
    "\n",
    "    # Fit and transform the training data\n",
    "    count_train = count_vectorizer.fit_transform(x_train)\n",
    "\n",
    "    # Transform the test set\n",
    "    count_test = count_vectorizer.transform(x_test)\n",
    "    \n",
    "    \n",
    "    # Initialize the TfidfVectorizer\n",
    "    tfidf_vectorizer=TfidfVectorizer(stop_words='english', max_df=0.7)\n",
    "\n",
    "    # Fit and transform training data\n",
    "    tfidf_train=tfidf_vectorizer.fit_transform(x_train) \n",
    "\n",
    "    # Transform the test set\n",
    "    tfidf_test=tfidf_vectorizer.transform(x_test)\n",
    "    \n",
    "    # Initialize a PassiveAggressiveClassifier and fit to countvectorized train data\n",
    "    pac = PassiveAggressiveClassifier(max_iter = 50)\n",
    "    pac.fit(count_train, y_train)\n",
    "\n",
    "    # Predict on the test set and calculate accuracy\n",
    "    y_pred_count = pac.predict(count_test)\n",
    "    score_count = accuracy_score(y_test, y_pred_count)\n",
    "    print(f'Accuracy for countvectorize: {round(score_count * 100,2)}%')\n",
    "    \n",
    "    # Initialize a PassiveAggressiveClassifier\n",
    "    pac = PassiveAggressiveClassifier(max_iter = 50)\n",
    "    pac.fit(tfidf_train,y_train)\n",
    "\n",
    "    # Predict on the test set and calculate accuracy\n",
    "    y_pred_vec = pac.predict(tfidf_test)\n",
    "    score_vec = accuracy_score(y_test,y_pred_vec)\n",
    "    print(f'Accuracy for tf-idf: {round(score_vec * 100,2)}%')"
   ]
  },
  {
   "cell_type": "code",
   "execution_count": null,
   "metadata": {},
   "outputs": [],
   "source": [
    "# Initialize the count vectorizer\n",
    "count_vectorizer = CountVectorizer(stop_words='english')\n",
    "\n",
    "# Fit and transform the training data\n",
    "count_train = count_vectorizer.fit_transform(x_train)\n",
    "\n",
    "# Transform the test set\n",
    "count_test = count_vectorizer.transform(x_test)"
   ]
  },
  {
   "cell_type": "code",
   "execution_count": null,
   "metadata": {},
   "outputs": [],
   "source": [
    "def pac_count(count_train, y_train, count_test, y_test):\n",
    "    # Initialize a PassiveAggressiveClassifier and fit to countvectorized train data\n",
    "    pac = PassiveAggressiveClassifier(max_iter = 50)\n",
    "    pac.fit(count_train, y_train)\n",
    "\n",
    "    # Predict on the test set and calculate accuracy\n",
    "    y_pred_count = pac.predict(count_test)\n",
    "    score_count = accuracy_score(y_test, y_pred_count)\n",
    "    print(f'Accuracy: {round(score_count * 100,2)}%')\n",
    "    #plot_confusion_matrix(y_test, y_pred_count)"
   ]
  }
 ],
 "metadata": {
  "kernelspec": {
   "display_name": "Python 3",
   "language": "python",
   "name": "python3"
  },
  "language_info": {
   "codemirror_mode": {
    "name": "ipython",
    "version": 3
   },
   "file_extension": ".py",
   "mimetype": "text/x-python",
   "name": "python",
   "nbconvert_exporter": "python",
   "pygments_lexer": "ipython3",
   "version": "3.7.3"
  }
 },
 "nbformat": 4,
 "nbformat_minor": 4
}
